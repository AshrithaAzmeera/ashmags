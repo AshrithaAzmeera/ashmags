{
  "nbformat": 4,
  "nbformat_minor": 0,
  "metadata": {
    "colab": {
      "provenance": [],
      "authorship_tag": "ABX9TyNh6gj+09F0Ca/hBMmKCmhx",
      "include_colab_link": true
    },
    "kernelspec": {
      "name": "python3",
      "display_name": "Python 3"
    },
    "language_info": {
      "name": "python"
    }
  },
  "cells": [
    {
      "cell_type": "markdown",
      "metadata": {
        "id": "view-in-github",
        "colab_type": "text"
      },
      "source": [
        "<a href=\"https://colab.research.google.com/github/AshrithaAzmeera/ashmags/blob/main/BLOCKCHAIN.ipynb\" target=\"_parent\"><img src=\"https://colab.research.google.com/assets/colab-badge.svg\" alt=\"Open In Colab\"/></a>"
      ]
    },
    {
      "cell_type": "code",
      "source": [
        "!pip install eth-hash[pycryptodome]"
      ],
      "metadata": {
        "colab": {
          "base_uri": "https://localhost:8080/"
        },
        "id": "jwjaptntbw50",
        "outputId": "430c60be-79b7-4bb7-a212-cd9874227dee"
      },
      "execution_count": 18,
      "outputs": [
        {
          "output_type": "stream",
          "name": "stdout",
          "text": [
            "Requirement already satisfied: eth-hash[pycryptodome] in /usr/local/lib/python3.11/dist-packages (0.7.1)\n",
            "Collecting pycryptodome<4,>=3.6.6 (from eth-hash[pycryptodome])\n",
            "  Downloading pycryptodome-3.22.0-cp37-abi3-manylinux_2_17_x86_64.manylinux2014_x86_64.whl.metadata (3.4 kB)\n",
            "Downloading pycryptodome-3.22.0-cp37-abi3-manylinux_2_17_x86_64.manylinux2014_x86_64.whl (2.3 MB)\n",
            "\u001b[2K   \u001b[90m━━━━━━━━━━━━━━━━━━━━━━━━━━━━━━━━━━━━━━━━\u001b[0m \u001b[32m2.3/2.3 MB\u001b[0m \u001b[31m22.0 MB/s\u001b[0m eta \u001b[36m0:00:00\u001b[0m\n",
            "\u001b[?25hInstalling collected packages: pycryptodome\n",
            "Successfully installed pycryptodome-3.22.0\n"
          ]
        }
      ]
    },
    {
      "cell_type": "code",
      "source": [
        "from eth_keys import keys\n",
        "from eth_utils import to_checksum_address\n",
        "\n",
        "# Custom private key (replace with your own 32-byte hex key)\n",
        "private_key_hex = \"2\".zfill(64)\n",
        "\n",
        "# Convert the private key from hex to bytes\n",
        "private_key_bytes = bytes.fromhex(private_key_hex)\n",
        "\n",
        "# Generate the private key object\n",
        "private_key = keys.PrivateKey(private_key_bytes)\n",
        "\n",
        "# Get the corresponding public key\n",
        "public_key = private_key.public_key\n",
        "\n",
        "# Generate the Ethereum address\n",
        "eth_address = public_key.to_address()\n",
        "\n",
        "# Convert to checksum address for better readability\n",
        "checksum_address = to_checksum_address(eth_address)\n",
        "\n",
        "# Print results\n",
        "print(f\"Private Key: {private_key}\")\n",
        "print(f\"Public Key: {public_key}\")\n",
        "print(f\"Ethereum Address: {checksum_address}\")"
      ],
      "metadata": {
        "colab": {
          "base_uri": "https://localhost:8080/"
        },
        "id": "DvKwVLb5biKZ",
        "outputId": "88c3ddb0-3f27-4899-98ee-89e53d38b6b7"
      },
      "execution_count": 19,
      "outputs": [
        {
          "output_type": "stream",
          "name": "stdout",
          "text": [
            "Private Key: 0x0000000000000000000000000000000000000000000000000000000000000002\n",
            "Public Key: 0xc6047f9441ed7d6d3045406e95c07cd85c778e4b8cef3ca7abac09b95c709ee51ae168fea63dc339a3c58419466ceaeef7f632653266d0e1236431a950cfe52a\n",
            "Ethereum Address: 0x2B5AD5c4795c026514f8317c7a215E218DcCD6cF\n"
          ]
        }
      ]
    }
  ]
}